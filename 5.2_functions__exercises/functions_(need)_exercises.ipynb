{
 "cells": [
  {
   "attachments": {},
   "cell_type": "markdown",
   "id": "123456",
   "metadata": {},
   "source": [
    "<div style=\"text-align:left;font-size:2em\"><span style=\"font-weight:bolder;font-size:1.25em\">SP2273 | Learning Portfolio</span><br><br><span style=\"font-weight:bold;color:darkred\">Functions (Need) Exercises</span></div>"
   ]
  },
  {
   "cell_type": "markdown",
   "id": "1ea04d30-8048-4a6f-a997-d47d2077e675",
   "metadata": {},
   "source": [
    "## Notes"
   ]
  },
  {
   "cell_type": "code",
   "execution_count": 6,
   "id": "10f53738-6d22-4e34-85e6-b81694b6b4cb",
   "metadata": {},
   "outputs": [],
   "source": [
    "import numpy as np"
   ]
  },
  {
   "cell_type": "code",
   "execution_count": 3,
   "id": "5a783899-3a2a-4de6-8ba5-0f041cfae79f",
   "metadata": {},
   "outputs": [
    {
     "data": {
      "text/plain": [
       "'Hello Super man!'"
      ]
     },
     "execution_count": 3,
     "metadata": {},
     "output_type": "execute_result"
    }
   ],
   "source": [
    "def greeting(name):\n",
    "    if name == 'Batman':\n",
    "        return 'Hello Batman! So, nice to meet you!'\n",
    "    else:\n",
    "        return f'Hello {name}!'\n",
    "\n",
    "greeting(name='Super man')"
   ]
  },
  {
   "cell_type": "code",
   "execution_count": 45,
   "id": "5b31f221-7c1e-49c3-b176-b48ea3c36e71",
   "metadata": {},
   "outputs": [
    {
     "data": {
      "text/plain": [
       "'Hello nameless! Nice to meet you.'"
      ]
     },
     "execution_count": 45,
     "metadata": {},
     "output_type": "execute_result"
    }
   ],
   "source": [
    "def greeting(name='nameless'): # Default value\n",
    "    if name == 'Batman':\n",
    "        return 'Hello Batman! So, nice to meet you!'\n",
    "    else:\n",
    "        return f'Hello {name}! Nice to meet you.'\n",
    "\n",
    "greeting()"
   ]
  },
  {
   "cell_type": "code",
   "execution_count": 61,
   "id": "80cde72c-4c16-422c-9499-7802fcc8be18",
   "metadata": {},
   "outputs": [
    {
     "name": "stdout",
     "output_type": "stream",
     "text": [
      "Max: 5\n",
      "Min: 1\n",
      "Mean: 3.0\n"
     ]
    }
   ],
   "source": [
    "def basic_stats(numbers):\n",
    "    np_numbers = np.array(numbers)\n",
    "    my_min = np_numbers.min()\n",
    "    my_max = np_numbers.max()\n",
    "    my_mean = np_numbers.mean()\n",
    "    return my_min, my_max, my_mean\n",
    "\n",
    "list_min, list_max, list_mean = basic_stats([1, 2, 3, 4, 5])\n",
    "\n",
    "print(\"Max:\", list_max)\n",
    "print(\"Min:\", list_min)\n",
    "print(\"Mean:\", list_mean)\n",
    "\n"
   ]
  },
  {
   "cell_type": "code",
   "execution_count": 32,
   "id": "97f6cf0f-3b02-4807-99bd-b0179373c4eb",
   "metadata": {},
   "outputs": [
    {
     "data": {
      "text/plain": [
       "'Hello Super Man!'"
      ]
     },
     "execution_count": 32,
     "metadata": {},
     "output_type": "execute_result"
    }
   ],
   "source": [
    "my_short_function = lambda name: f\"Hello {name}!\" # A lambda function always returns the value of the last statement\n",
    "my_short_function(name=\"Super Man\")"
   ]
  },
  {
   "cell_type": "code",
   "execution_count": 37,
   "id": "bbd16707-4cae-4b16-a85e-4a75ba7c26e0",
   "metadata": {},
   "outputs": [
    {
     "data": {
      "text/plain": [
       "[[0, 9, -19],\n",
       " [1, 8, -18],\n",
       " [2, 7, -17],\n",
       " [3, 6, -16],\n",
       " [4, 5, -15],\n",
       " [5, 4, -14],\n",
       " [6, 3, -13],\n",
       " [7, 2, -12],\n",
       " [8, 1, -11],\n",
       " [9, 0, -10]]"
      ]
     },
     "execution_count": 37,
     "metadata": {},
     "output_type": "execute_result"
    }
   ],
   "source": [
    "numbers=[[9, 0, -10],\n",
    "         [8, 1, -11],\n",
    "         [7, 2, -12],\n",
    "         [6, 3, -13],\n",
    "         [5, 4, -14],\n",
    "         [4, 5, -15],\n",
    "         [3, 6, -16],\n",
    "         [2, 7, -17],\n",
    "         [1, 8, -18],\n",
    "         [0, 9, -19]]\n",
    "\n",
    "sorted(numbers) # based on the first element\n",
    "sorted(numbers, key=lambda x: x[2]) # based on specified element\n",
    "sorted(numbers, key=lambda x: sum(x))"
   ]
  },
  {
   "cell_type": "markdown",
   "id": "2f4e0430-6780-4bda-a8d2-e7285c3a5a30",
   "metadata": {},
   "source": [
    "## Exercise 1 (Do you know why?)"
   ]
  },
  {
   "cell_type": "code",
   "execution_count": 53,
   "id": "f6c793df-0cab-4e85-b98a-642f47f51efd",
   "metadata": {},
   "outputs": [
    {
     "data": {
      "text/plain": [
       "'Hello Batman! So, nice to meet you!'"
      ]
     },
     "execution_count": 53,
     "metadata": {},
     "output_type": "execute_result"
    }
   ],
   "source": [
    "def greeting(name):\n",
    "    if name == 'Batman':\n",
    "        return 'Hello Batman! So, nice to meet you!'\n",
    "    return f'Hello {name}!'\n",
    "\n",
    "greeting(\"Batman\")"
   ]
  },
  {
   "cell_type": "markdown",
   "id": "13b190bd-1f1b-41eb-b10d-60a09f6571e6",
   "metadata": {},
   "source": [
    "The code works without an 'else' statement because the second 'return' statement is indented once, under the 'define' function. This means that if the name input is not \"Batman\", then the second 'return' function would be called. "
   ]
  },
  {
   "cell_type": "markdown",
   "id": "93a7fa29-fdc2-40d6-83e2-a1326f53dcd5",
   "metadata": {},
   "source": [
    "## Exercise 2 (Chubby or not)"
   ]
  },
  {
   "cell_type": "code",
   "execution_count": null,
   "id": "84d0cf3b-ff74-4bdc-b3bd-621434788b93",
   "metadata": {},
   "outputs": [],
   "source": [
    "Write a Python function named calculate_bmi.\n",
    "\n",
    "The function should take two parameters:\n",
    "weight (in kilograms) and height (in meters).\n",
    "The function should calculate the BMI (Body Mass Index) using the formula BMI = weight / (height ** 2).\n",
    "Based on the calculated BMI, the function should return a string indicating the BMI category based on the following criteria:\n",
    "                                                                         \n",
    "Category\tBMI Range\n",
    "Underweight\tBMI less than 18.5\n",
    "Normal weight\tBMI between 18.5 and 24.9\n",
    "Overweight\tBMI between 25 and 29.9\n",
    "Obese\tBMI 30 or more"
   ]
  },
  {
   "cell_type": "code",
   "execution_count": 138,
   "id": "97ab2c0b-1762-4f8c-bbf2-1af176b8982c",
   "metadata": {},
   "outputs": [
    {
     "data": {
      "text/plain": [
       "'Based on your BMI, you are of normal weight.'"
      ]
     },
     "execution_count": 138,
     "metadata": {},
     "output_type": "execute_result"
    }
   ],
   "source": [
    " \n",
    "def calculate_bmi(weight, height):\n",
    "    BMI = weight / (height ** 2)\n",
    "    if BMI < 18.5:\n",
    "        return 'Based on your BMI, you are underweight.'\n",
    "    if 18.5 <= BMI <= 24.9:\n",
    "        return 'Based on your BMI, you are of normal weight.'\n",
    "    if 25 <= BMI <= 29.9:\n",
    "        return 'Based on your BMI, you are overweight.'\n",
    "    if BMI > 30:\n",
    "        return 'Based on your BMI, you are obese.'\n",
    "\n",
    "calculate_bmi(weight = 53, height = 1.6)"
   ]
  },
  {
   "cell_type": "markdown",
   "id": "8783a3c6-24fa-469d-8da9-a8c691b0d7f0",
   "metadata": {},
   "source": [
    "## Exercise 3 (Factorials)"
   ]
  },
  {
   "cell_type": "code",
   "execution_count": null,
   "id": "1019bd92-df45-4651-a23d-cf7ff544826a",
   "metadata": {},
   "outputs": [],
   "source": [
    "Write a function that accepts an integer n and returns its factorial. Ensure that your function gracefully handles negative numbers."
   ]
  },
  {
   "cell_type": "code",
   "execution_count": 101,
   "id": "2b0f8f95-9150-4840-b729-de32f7b4b95f",
   "metadata": {},
   "outputs": [
    {
     "data": {
      "text/plain": [
       "'Math error occurs'"
      ]
     },
     "execution_count": 101,
     "metadata": {},
     "output_type": "execute_result"
    }
   ],
   "source": [
    "def factorial(n):\n",
    "    if n == 0 or n == 1: \n",
    "        return 1\n",
    "    elif n > 1:\n",
    "        m = 1\n",
    "        for i in range(2,n+1):\n",
    "            m *= i\n",
    "        return m\n",
    "    elif n < 0:\n",
    "        return f'Math error occurs'\n",
    "\n",
    "factorial(-5)"
   ]
  }
 ],
 "metadata": {
  "kernelspec": {
   "display_name": "Python 3 (ipykernel)",
   "language": "python",
   "name": "python3"
  },
  "language_info": {
   "codemirror_mode": {
    "name": "ipython",
    "version": 3
   },
   "file_extension": ".py",
   "mimetype": "text/x-python",
   "name": "python",
   "nbconvert_exporter": "python",
   "pygments_lexer": "ipython3",
   "version": "3.12.2"
  },
  "toc": {
   "base_numbering": 1,
   "nav_menu": {},
   "number_sections": true,
   "sideBar": true,
   "skip_h1_title": false,
   "title_cell": "Table of Contents",
   "title_sidebar": "Contents",
   "toc_cell": false,
   "toc_position": {},
   "toc_section_display": true,
   "toc_window_display": false
  },
  "vscode": {
   "interpreter": {
    "hash": "31f2aee4e71d21fbe5cf8b01ff0e069b9275f58929596ceb00d14d90e3e16cd6"
   }
  }
 },
 "nbformat": 4,
 "nbformat_minor": 5
}
