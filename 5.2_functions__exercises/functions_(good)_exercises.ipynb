{
 "cells": [
  {
   "attachments": {},
   "cell_type": "markdown",
   "id": "123456",
   "metadata": {},
   "source": [
    "<div style=\"text-align:left;font-size:2em\"><span style=\"font-weight:bolder;font-size:1.25em\">SP2273 | Learning Portfolio</span><br><br><span style=\"font-weight:bold;color:darkred\">Functions (Good) Exercises</span></div>"
   ]
  },
  {
   "cell_type": "code",
   "execution_count": 1,
   "id": "0aa6a1b6-8d99-426b-a6d4-a3b8d3c4c82a",
   "metadata": {},
   "outputs": [],
   "source": [
    "import numpy as np"
   ]
  },
  {
   "cell_type": "markdown",
   "id": "8ca09bb0-2b92-46cc-bfc2-1e6708bb44d0",
   "metadata": {},
   "source": [
    "## Notes"
   ]
  },
  {
   "cell_type": "code",
   "execution_count": 3,
   "id": "ca5e7e27-9d9c-4671-ba24-623be7cd6b3d",
   "metadata": {},
   "outputs": [],
   "source": [
    "x = 10\n",
    "assert x >= 0, \"x is becoming negative!\""
   ]
  },
  {
   "cell_type": "code",
   "execution_count": 7,
   "id": "3e0e185f-d5a8-4cc3-939f-6921a4e33ced",
   "metadata": {},
   "outputs": [
    {
     "name": "stdin",
     "output_type": "stream",
     "text": [
      "Give me a number and I will calculate its square. 80\n"
     ]
    },
    {
     "name": "stdout",
     "output_type": "stream",
     "text": [
      "The square of 80 is 6400!\n"
     ]
    }
   ],
   "source": [
    "try:\n",
    "    number=input(\"Give me a number and I will calculate its square.\")\n",
    "    square=int(number)**2\n",
    "    print(f'The square of {number} is {square}!')\n",
    "except:\n",
    "    print(f\"Oh oh! I cannot square {number}!\")"
   ]
  },
  {
   "cell_type": "code",
   "execution_count": 11,
   "id": "5ec8623c-ab83-4219-9d43-88c761d08302",
   "metadata": {},
   "outputs": [
    {
     "data": {
      "text/plain": [
       "' 1| 2| 42'"
      ]
     },
     "execution_count": 11,
     "metadata": {},
     "output_type": "execute_result"
    }
   ],
   "source": [
    "def side_by_side(a, b, c=42):\n",
    "    return f'{a: 2d}|{b: 2d}|{c: 2d}'\n",
    "\n",
    "side_by_side(1, 2, 3)\n",
    "side_by_side(c=3, b=1, a=2)\n",
    "side_by_side(1, b=2)"
   ]
  },
  {
   "cell_type": "code",
   "execution_count": 12,
   "id": "89d328cf-adf9-4494-8a57-ee2d59f4c775",
   "metadata": {},
   "outputs": [
    {
     "name": "stdout",
     "output_type": "stream",
     "text": [
      "Help on function side_by_side in module __main__:\n",
      "\n",
      "side_by_side(a, b, c=42)\n",
      "    A test function to demonstrate how\n",
      "    positional, keyword and default arguments\n",
      "    work.\n",
      "\n"
     ]
    }
   ],
   "source": [
    "def side_by_side(a, b, c=42):\n",
    "    '''\n",
    "    A test function to demonstrate how \n",
    "    positional, keyword and default arguments \n",
    "    work.\n",
    "    '''\n",
    "    return f'{a: 2d}|{b: 2d}|{c: 2d}'\n",
    "\n",
    "help(side_by_side)"
   ]
  },
  {
   "cell_type": "code",
   "execution_count": 18,
   "id": "01d75d54-7dbb-4316-bf26-f921a2f1f173",
   "metadata": {},
   "outputs": [
    {
     "data": {
      "text/plain": [
       "np.float64(-1.0)"
      ]
     },
     "execution_count": 18,
     "metadata": {},
     "output_type": "execute_result"
    }
   ],
   "source": [
    "def my_function(angle, trig_function):\n",
    "        return trig_function(angle)\n",
    "\n",
    "my_function(np.pi/2, np.sin)        \n",
    "\n",
    "my_function(np.pi/2, np.cos)        \n",
    "\n",
    "my_function(np.pi/2, lambda x: np.cos(2*x))"
   ]
  },
  {
   "cell_type": "code",
   "execution_count": 19,
   "id": "facebc27-db1f-481a-996f-d3d62f8f05f2",
   "metadata": {},
   "outputs": [
    {
     "data": {
      "text/plain": [
       "(np.int64(1), [np.int64(2), np.int64(3), np.int64(4)], np.int64(5))"
      ]
     },
     "execution_count": 19,
     "metadata": {},
     "output_type": "execute_result"
    }
   ],
   "source": [
    "x, *y, z = np.array([1, 2, 3, 4, 5]) # *y will be assigned the middle values as a list\n",
    "x, y, z"
   ]
  },
  {
   "cell_type": "markdown",
   "id": "e8050391-fd73-4a20-b9f0-6e380b2397dc",
   "metadata": {},
   "source": [
    "## Exercise 1 (Celsius to Fahrenheit or Kelvin)"
   ]
  },
  {
   "cell_type": "code",
   "execution_count": 28,
   "id": "b2968b81-4a62-42a7-9b9e-3b1925698db5",
   "metadata": {},
   "outputs": [
    {
     "data": {
      "text/plain": [
       "80.6"
      ]
     },
     "execution_count": 28,
     "metadata": {},
     "output_type": "execute_result"
    }
   ],
   "source": [
    "def convert_celsius(temperature_celsius, target_scale):\n",
    "    if target_scale == 'Celsius':\n",
    "        return temperature_celsius\n",
    "    if target_scale == 'Kelvin':\n",
    "        return temperature_celsius + 273.15\n",
    "    else:\n",
    "        return temperature_celsius * (9/5) + 32\n",
    "\n",
    "convert_celsius(27, 8)"
   ]
  },
  {
   "cell_type": "markdown",
   "id": "8ff5a6ee-1004-4785-a824-ded99f40c6f6",
   "metadata": {},
   "source": [
    "## Exercise 2 (Fahrenheit to Celsius or Kelvin)"
   ]
  },
  {
   "cell_type": "code",
   "execution_count": 27,
   "id": "4cb2dd46-9a23-4dae-a6fa-72cbf10560ac",
   "metadata": {},
   "outputs": [
    {
     "data": {
      "text/plain": [
       "21.11111111111111"
      ]
     },
     "execution_count": 27,
     "metadata": {},
     "output_type": "execute_result"
    }
   ],
   "source": [
    "def convert_fahrenheit(temperature_fahrenheit, target_scale):\n",
    "    if target_scale == 'Fahrenheit':\n",
    "        return temperature_fahrenheit\n",
    "    if target_scale == 'Kelvin':\n",
    "        return (temperature_fahrenheit - 32) * 5/9 + 273.15\n",
    "    else:\n",
    "        return (temperature_fahrenheit - 32) * 5/9\n",
    "\n",
    "convert_fahrenheit(70, 'hi')"
   ]
  },
  {
   "cell_type": "markdown",
   "id": "8e3417e3-0ec2-4c5d-bfb7-f4dd735dd7c5",
   "metadata": {},
   "source": [
    "## Exercise 3 (General Temperature Conversion)"
   ]
  },
  {
   "cell_type": "code",
   "execution_count": 33,
   "id": "9ebf9090-b9f3-449e-bc11-407246b80888",
   "metadata": {},
   "outputs": [
    {
     "name": "stdout",
     "output_type": "stream",
     "text": [
      "323.15\n"
     ]
    }
   ],
   "source": [
    "def convert_temperature(temperature, source_scale, target_scale):\n",
    "    try: \n",
    "     \n",
    "        if source_scale == 'Celsius':\n",
    "            return convert_celsius(temperature, target_scale)\n",
    "    \n",
    "        elif source_scale == 'Fahrenheit':\n",
    "            return convert_fahrenheit(temperature, target_scale)\n",
    "            \n",
    "        elif source_scale == 'Kelvin':\n",
    "            if target_scale == source_scale:\n",
    "                return temperature\n",
    "            if target_scale == 'Celsius':\n",
    "                return temperature - 273.15\n",
    "            elif target_scale == 'Fahrenheit':\n",
    "                return (temperature - 273.15) * 9/5 + 32\n",
    "            else:\n",
    "                return f'Invalid target scale'\n",
    "\n",
    "        else:\n",
    "            return f'Invalid source scale'\n",
    "\n",
    "    except: \n",
    "        temperature = str(temperature)\n",
    "        return f'Please enter a valid numerical value of temperature'\n",
    "\n",
    "print(convert_temperature(50, 'Celsius', 'Kelvin'))"
   ]
  }
 ],
 "metadata": {
  "kernelspec": {
   "display_name": "Python 3 (ipykernel)",
   "language": "python",
   "name": "python3"
  },
  "language_info": {
   "codemirror_mode": {
    "name": "ipython",
    "version": 3
   },
   "file_extension": ".py",
   "mimetype": "text/x-python",
   "name": "python",
   "nbconvert_exporter": "python",
   "pygments_lexer": "ipython3",
   "version": "3.12.2"
  },
  "toc": {
   "base_numbering": 1,
   "nav_menu": {},
   "number_sections": true,
   "sideBar": true,
   "skip_h1_title": false,
   "title_cell": "Table of Contents",
   "title_sidebar": "Contents",
   "toc_cell": false,
   "toc_position": {},
   "toc_section_display": true,
   "toc_window_display": false
  },
  "vscode": {
   "interpreter": {
    "hash": "31f2aee4e71d21fbe5cf8b01ff0e069b9275f58929596ceb00d14d90e3e16cd6"
   }
  }
 },
 "nbformat": 4,
 "nbformat_minor": 5
}
