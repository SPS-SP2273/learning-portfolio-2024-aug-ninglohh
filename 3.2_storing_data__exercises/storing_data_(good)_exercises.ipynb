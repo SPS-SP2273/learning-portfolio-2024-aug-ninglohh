{
 "cells": [
  {
   "attachments": {},
   "cell_type": "markdown",
   "id": "123456",
   "metadata": {},
   "source": [
    "<div style=\"text-align:left;font-size:2em\"><span style=\"font-weight:bolder;font-size:1.25em\">SP2273 | Learning Portfolio</span><br><br><span style=\"font-weight:bold;color:darkred\">Storing Data (Good) Exercises</span></div>"
   ]
  },
  {
   "cell_type": "code",
   "execution_count": 2,
   "id": "f7cd8842-d2f0-433a-aece-edeb85a0d307",
   "metadata": {},
   "outputs": [],
   "source": [
    "import numpy as np"
   ]
  },
  {
   "cell_type": "markdown",
   "id": "38c719bd-6a2c-44cd-ba0e-6f0ac3082e53",
   "metadata": {},
   "source": [
    "### Exercise 1 (Total recall)"
   ]
  },
  {
   "cell_type": "markdown",
   "id": "6c729cb0-1949-4bf5-aa77-7f59f307414c",
   "metadata": {},
   "source": [
    "| Term    |  Brief description  |   \n",
    "| :--- | :--: | \n",
    "| Subsetting  |  to select a subset of data from a list or array |  \n",
    "| Indexing   |  to pick a single element from a list or array  |  \n",
    "| Slicing  |  to select a range of elements from a list or array  |   \n",
    "| Masking  | a way of subsetting a NumPy array that allows the true/false answer to act as a mask by only showing the true subset  |\n"
   ]
  },
  {
   "cell_type": "markdown",
   "id": "dd556e1c-a0da-4fbf-a62c-6a88309c9b49",
   "metadata": {},
   "source": [
    "### Exercise 2 (Show me the ‘odd’ letters)"
   ]
  },
  {
   "cell_type": "code",
   "execution_count": 71,
   "id": "076e38aa-78f8-44fd-8059-de6691afd98e",
   "metadata": {},
   "outputs": [
    {
     "data": {
      "text/plain": [
       "array(['A', 'C', 'E', 'G', 'I'], dtype='<U21')"
      ]
     },
     "execution_count": 71,
     "metadata": {},
     "output_type": "execute_result"
    }
   ],
   "source": [
    "np_array_2d = np.array([[1, \"A\"], [3, \"C\"], [2, \"B\"], [4, \"D\"],\n",
    "                        [5, \"E\"], [7, \"G\"], [6, \"F\"], [8, \"H\"],\n",
    "                        [10, \"J\"], [9, \"I\"]])\n",
    "\n",
    "x = np_array_2d    # contains different data types \n",
    "y = x[:,0]\n",
    "z = y.astype(int) % 2\n",
    "\n",
    "array = np.array(z)\n",
    "\n",
    "mask = ~(array == 0)\n",
    "mask\n",
    "\n",
    "np_array_2d[mask,1]"
   ]
  },
  {
   "cell_type": "markdown",
   "id": "dab8b42d-7926-4c5f-9bb6-b9b845d141bc",
   "metadata": {},
   "source": [
    "### Exercise 3  "
   ]
  },
  {
   "cell_type": "markdown",
   "id": "1421eb7c-19c8-43d5-8a64-9241b0adf0bf",
   "metadata": {},
   "source": [
    "#### Question"
   ]
  },
  {
   "cell_type": "code",
   "execution_count": null,
   "id": "800afaf4-c075-40ff-bd5c-9c9d7d5728d7",
   "metadata": {},
   "outputs": [],
   "source": [
    "change:\n",
    "values below 50 to -1,\n",
    "values above 50 to +1, and\n",
    "values equal to 50 to 0.\n",
    "You should end up with:\n",
    "\n",
    "[[ 1  0  1 -1 -1]\n",
    " [ 1 -1  1 -1 -1]\n",
    " [ 1 -1 -1  1 -1]\n",
    " [-1  1  1 -1 -1]\n",
    " [ 1 -1  1 -1  1]]"
   ]
  },
  {
   "cell_type": "markdown",
   "id": "80dd238f-dbdd-4b78-bc27-29637ebb47f4",
   "metadata": {},
   "source": [
    "#### Answer"
   ]
  },
  {
   "cell_type": "code",
   "execution_count": 123,
   "id": "99b7e01f-c53c-4a22-af83-67fd58d694a4",
   "metadata": {},
   "outputs": [
    {
     "name": "stdout",
     "output_type": "stream",
     "text": [
      "[[ 1  0  1 -1 -1]\n",
      " [ 1 -1  1 -1 -1]\n",
      " [ 1 -1 -1  1 -1]\n",
      " [-1  1  1 -1 -1]\n",
      " [ 1 -1  1 -1  1]]\n"
     ]
    }
   ],
   "source": [
    "py_list = [[66, 50, 57, -1, -1],\n",
    " [92, -1, 88, -1, -1],\n",
    " [75, -1, -1, 76, -1],\n",
    " [-1, 51, 87, -1, -1],\n",
    " [71, -1, 67, -1, 69]]\n",
    "\n",
    "x = np.array(py_list)\n",
    "\n",
    "mask = x<50\n",
    "x[mask] = -1  # masking all the 'True' values to -1\n",
    "\n",
    "mask_2 = x>50\n",
    "x[mask_2] = 1\n",
    "\n",
    "mask_3 = x==50\n",
    "x[mask_3] = 0\n",
    "\n",
    "print(x)\n"
   ]
  }
 ],
 "metadata": {
  "kernelspec": {
   "display_name": "Python 3 (ipykernel)",
   "language": "python",
   "name": "python3"
  },
  "language_info": {
   "codemirror_mode": {
    "name": "ipython",
    "version": 3
   },
   "file_extension": ".py",
   "mimetype": "text/x-python",
   "name": "python",
   "nbconvert_exporter": "python",
   "pygments_lexer": "ipython3",
   "version": "3.12.2"
  },
  "toc": {
   "base_numbering": 1,
   "nav_menu": {},
   "number_sections": true,
   "sideBar": true,
   "skip_h1_title": false,
   "title_cell": "Table of Contents",
   "title_sidebar": "Contents",
   "toc_cell": false,
   "toc_position": {},
   "toc_section_display": true,
   "toc_window_display": false
  },
  "vscode": {
   "interpreter": {
    "hash": "31f2aee4e71d21fbe5cf8b01ff0e069b9275f58929596ceb00d14d90e3e16cd6"
   }
  }
 },
 "nbformat": 4,
 "nbformat_minor": 5
}
