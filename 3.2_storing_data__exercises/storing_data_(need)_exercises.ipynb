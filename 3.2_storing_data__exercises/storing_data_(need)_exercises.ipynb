{
 "cells": [
  {
   "attachments": {},
   "cell_type": "markdown",
   "id": "123456",
   "metadata": {},
   "source": [
    "<div style=\"text-align:left;font-size:2em\"><span style=\"font-weight:bolder;font-size:1.25em\">SP2273 | Learning Portfolio</span><br><br><span style=\"font-weight:bold;color:darkred\">Storing Data (Need) Exercises</span></div>"
   ]
  },
  {
   "cell_type": "code",
   "execution_count": 1,
   "id": "512c69ec-1543-47d9-85ce-eb8a6616c821",
   "metadata": {},
   "outputs": [],
   "source": [
    "import numpy as np  # arrays are NumPy arrays"
   ]
  },
  {
   "cell_type": "markdown",
   "id": "ee5a7173-0e26-44d3-8203-240e0731dca3",
   "metadata": {},
   "source": [
    "## Exercise 1 (Total recall?)"
   ]
  },
  {
   "cell_type": "markdown",
   "id": "88f0fbc8-5311-4b72-97ef-408e436a0ed1",
   "metadata": {},
   "source": [
    "**Two similarities between lists and arrays.**\n",
    "1. both can store elements within square brackets\n",
    "2. both can be 1D or 2D\n",
    "\n",
    "**Two differences between lists and arrays.**\n",
    "1. lists can include different data types in one list while arrays are stricter and only allow 1 data type within one array\n",
    "2. an operation on a list works on the whole list while an operation on an array works on individual elements of the array \n",
    "\n",
    "**What is a dictionary?**\n",
    "A dictionary can store keys as values and acts like a 2D list but is held within one structure"
   ]
  },
  {
   "cell_type": "markdown",
   "id": "13f89254-517b-4d81-b614-79e92fde11b5",
   "metadata": {},
   "source": [
    "### practice"
   ]
  },
  {
   "cell_type": "code",
   "execution_count": 10,
   "id": "7b2a157d-eb47-4655-929e-e9d79c35ce1d",
   "metadata": {},
   "outputs": [
    {
     "data": {
      "text/plain": [
       "'ning'"
      ]
     },
     "execution_count": 10,
     "metadata": {},
     "output_type": "execute_result"
    }
   ],
   "source": [
    "dictionary = {\n",
    "        \"key\": \"value\",\n",
    "        \"name\" : \"ning\",\n",
    "        \"age\" : \"18\"\n",
    "}\n",
    "\n",
    "dictionary[\"name\"]"
   ]
  },
  {
   "cell_type": "code",
   "execution_count": 8,
   "id": "bc63fe57-1d23-47bb-a3ab-a636dd809cf5",
   "metadata": {},
   "outputs": [
    {
     "data": {
      "text/plain": [
       "(10, 2)"
      ]
     },
     "execution_count": 8,
     "metadata": {},
     "output_type": "execute_result"
    }
   ],
   "source": [
    "py_list_2d = [[1, \"A\"], [2, \"B\"], [3, \"C\"], [4, \"D\"],  # can think of this as a matrix or a table\n",
    "              [5, \"E\"], [6, \"F\"], [7, \"G\"], [8, \"H\"],\n",
    "              [9, \"I\"], [10, \"J\"]]\n",
    "\n",
    "np_array_2d = np.array(py_list_2d)      # Reusing the Python list \n",
    "                                        # to create a NEW\n",
    "                                        # NumPy array\n",
    "\n",
    "len(py_list_2d) # gives you the number of rows\n",
    "len(np_array_2d) # gives you the number of rows\n",
    "np_array_2d.shape # gives you the number of rows and columns respectively\n",
    "                  # shape is not a function, it is an attribute so there are no parentheses after it"
   ]
  },
  {
   "cell_type": "markdown",
   "id": "fa4b2b80-f136-436d-bea6-c61c7514b185",
   "metadata": {},
   "source": [
    "## Exercise 2 (Indexing)"
   ]
  },
  {
   "cell_type": "code",
   "execution_count": 20,
   "id": "2ee8174f-065f-48a8-aab4-4f8457be0749",
   "metadata": {},
   "outputs": [
    {
     "name": "stdout",
     "output_type": "stream",
     "text": [
      "a1\n",
      "c3\n",
      "e5\n",
      "g7\n",
      "i9\n"
     ]
    }
   ],
   "source": [
    "py_list = [\"a1\", \"b2\", \"c3\", \"d4\", \"e5\", \"f6\", \"g7\", \"h8\", \"i9\", \"j10\"]\n",
    "print(py_list[0])   # Prints 'a1'\n",
    "print(py_list[2])   # Prints 'c3'\n",
    "print(py_list[4])   # Prints 'e5'\n",
    "print(py_list[6])   # Prints 'g7'\n",
    "print(py_list[8])   # Prints 'i9'"
   ]
  },
  {
   "cell_type": "markdown",
   "id": "35d80711-3a4b-4d65-95c3-2cd07e4115ff",
   "metadata": {},
   "source": [
    "### Exercise 3 (Index again)"
   ]
  },
  {
   "cell_type": "code",
   "execution_count": 17,
   "id": "61041605-496d-4bff-bd37-9c30499326c9",
   "metadata": {},
   "outputs": [
    {
     "name": "stdout",
     "output_type": "stream",
     "text": [
      "Boron\n",
      "Boron\n"
     ]
    }
   ],
   "source": [
    "elements = ['Hydrogen',\n",
    "            'Helium', 'Lithium',\n",
    "            'Beryllium', 'Boron', 'Carbon',\n",
    "            'Nitrogen', 'Oxygen',\n",
    "            'Fluorine',\n",
    "            'Neon']\n",
    "\n",
    "print(elements[4])\n",
    "print(elements[-6])"
   ]
  },
  {
   "cell_type": "markdown",
   "id": "95935b37-3b5d-45c4-8734-03d32e08f5ad",
   "metadata": {},
   "source": [
    "## Exercise 4 (How many ones)"
   ]
  },
  {
   "cell_type": "code",
   "execution_count": 33,
   "id": "dcc007cc-b113-4f1d-9732-def195efff55",
   "metadata": {},
   "outputs": [
    {
     "name": "stdout",
     "output_type": "stream",
     "text": [
      "9\n"
     ]
    }
   ],
   "source": [
    "numbers=[45, 60, 1, 30, 96, 1, 96, 57, 16, 1,\n",
    "        99, 62, 86, 43, 42, 60, 59, 1, 1, 35,\n",
    "        83, 47, 34, 28, 68, 23, 22, 92, 1, 79,\n",
    "        1, 29, 94, 72, 46, 47, 1, 74, 32, 20,\n",
    "        8, 37, 35, 1, 89, 29, 86, 19, 43, 61]     \n",
    "\n",
    "np_numbers = np.array(numbers)\n",
    "print((np_numbers==1).sum()) # prints the sum of the number of 1's"
   ]
  },
  {
   "cell_type": "markdown",
   "id": "022daeb6-0f05-4e4a-8d3f-d1ed87607e23",
   "metadata": {},
   "source": [
    "## Exercise 5 (A Matter of Statistics)"
   ]
  },
  {
   "cell_type": "code",
   "execution_count": 80,
   "id": "376ac551-7814-4c78-b2e0-826b02bcf5f5",
   "metadata": {},
   "outputs": [
    {
     "name": "stdout",
     "output_type": "stream",
     "text": [
      "38.5\n",
      "302.5\n",
      "32.41990129534635\n",
      "326.0893282522444\n",
      "0.9871796626270701\n",
      "[[1.         0.98717966]\n",
      " [0.98717966 1.        ]]\n"
     ]
    }
   ],
   "source": [
    "x_1 = [1, 4, 9, 16, 25, 36, 49, 64, 81, 100]\n",
    "x_2 = [1, 8, 27, 64, 125, 216, 343, 512, 729, 1000]\n",
    "\n",
    "np_array1 = np.array(x_1)\n",
    "np_array2 = np.array(x_2)\n",
    "\n",
    "print(np_array1.mean()) # mean of x_1\n",
    "print(np_array2.mean()) # mean of x_2\n",
    "\n",
    "print(np_array1.std()) # sd of x_1\n",
    "print(np_array2.std()) # sd of x_2\n",
    "\n",
    "print(((np_array1 - np_array1.mean())*(np_array2 - np_array2.mean())).sum() / (np.sqrt(((np_array1 - np_array1.mean())**2).sum()) * \n",
    "np.sqrt(((np_array2 - np_array2.mean())**2).sum()))) \n",
    "\n",
    "print(np.corrcoef(np_array1, np_array2)) # this is less accurate than the previous method since the answer is to fewer d.p.\n"
   ]
  }
 ],
 "metadata": {
  "kernelspec": {
   "display_name": "Python 3 (ipykernel)",
   "language": "python",
   "name": "python3"
  },
  "language_info": {
   "codemirror_mode": {
    "name": "ipython",
    "version": 3
   },
   "file_extension": ".py",
   "mimetype": "text/x-python",
   "name": "python",
   "nbconvert_exporter": "python",
   "pygments_lexer": "ipython3",
   "version": "3.12.2"
  },
  "toc": {
   "base_numbering": 1,
   "nav_menu": {},
   "number_sections": true,
   "sideBar": true,
   "skip_h1_title": false,
   "title_cell": "Table of Contents",
   "title_sidebar": "Contents",
   "toc_cell": false,
   "toc_position": {},
   "toc_section_display": true,
   "toc_window_display": false
  },
  "vscode": {
   "interpreter": {
    "hash": "31f2aee4e71d21fbe5cf8b01ff0e069b9275f58929596ceb00d14d90e3e16cd6"
   }
  }
 },
 "nbformat": 4,
 "nbformat_minor": 5
}
