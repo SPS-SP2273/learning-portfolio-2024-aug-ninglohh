{
 "cells": [
  {
   "attachments": {},
   "cell_type": "markdown",
   "id": "123456",
   "metadata": {},
   "source": [
    "<div style=\"text-align:left;font-size:2em\"><span style=\"font-weight:bolder;font-size:1.25em\">SP2273 | Learning Portfolio</span><br><br><span style=\"font-weight:bold;color:darkred\">Using Jupyter (Need), Exercises</span></div>"
   ]
  },
  {
   "attachments": {},
   "cell_type": "markdown",
   "id": "3d7e5d80",
   "metadata": {},
   "source": [
    "## 1 Quadratic Equations"
   ]
  },
  {
   "attachments": {},
   "cell_type": "markdown",
   "id": "5c499f72",
   "metadata": {},
   "source": [
    "### Introduction"
   ]
  },
  {
   "cell_type": "markdown",
   "id": "e6f8cef2-82df-4f06-924f-d56c60c43cf2",
   "metadata": {},
   "source": [
    "![](https://upload.wikimedia.org/wikipedia/commons/f/f8/Polynomialdeg2.svg)\n",
    "\n",
    "The general form of a equation is: \n",
    "\n",
    "$$\n",
    "ax^{2} + bx + c = 0\n",
    "$$"
   ]
  },
  {
   "attachments": {},
   "cell_type": "markdown",
   "id": "0d6c023c",
   "metadata": {},
   "source": [
    "### Solutions"
   ]
  },
  {
   "cell_type": "markdown",
   "id": "f9abefe6-b144-4170-87e5-81f2dc10fc76",
   "metadata": {},
   "source": [
    "Provided $a \\ne 0$\n",
    ", we can use an elementary algebraic method called [completing the square](https://en.wikipedia.org/wiki/Completing_the_square) to show that a quadratic equation has the following solution:\n",
    "\n",
    "$$\n",
    "x = \\dfrac{-b \\pm \\sqrt{b^{2}-4ac}}{2a}\n",
    "$$"
   ]
  },
  {
   "attachments": {},
   "cell_type": "markdown",
   "id": "51077070",
   "metadata": {},
   "source": [
    "### Discriminant"
   ]
  },
  {
   "cell_type": "markdown",
   "id": "44d58f99-c0cb-495d-aeee-ad7e9e8eacf8",
   "metadata": {},
   "source": [
    "The quantity $∆ = b^{2} - 4ac$\n",
    " is called the **discriminant** of the equation and decides the nature of its solutions. The table below shows the various possibilities.\n",
    "\n",
    " | **Discriminant**   |  **Roots**  |\n",
    "| :--- | :--: |\n",
    "| $∆= b^{2} - 4ac = 0$  |  A single solution of $-b/(2a)$  | \n",
    "| $∆= b^{2} - 4ac \\gt 0$    |  Two distinct solutions  |   \n",
    "| $∆= b^{2} - 4ac < 0$     |  No real solutions; both are complex.  |   "
   ]
  },
  {
   "cell_type": "markdown",
   "id": "6b44f447-9ed8-4a5d-8b89-3c7047e18476",
   "metadata": {},
   "source": [
    "## Exercise 2 (In Your Own Words)"
   ]
  },
  {
   "cell_type": "markdown",
   "id": "2c548df5-bd2d-4014-a19a-77041649ed3e",
   "metadata": {},
   "source": [
    "### What is a Git repository?"
   ]
  },
  {
   "cell_type": "markdown",
   "id": "9378c96a-e33f-43e9-83e4-ea8b4ef9159e",
   "metadata": {},
   "source": [
    "A Git repository is what stores all selected files in code and it keeps track of the changes we make in files."
   ]
  },
  {
   "cell_type": "markdown",
   "id": "ec954db8-54ce-4c89-84b8-c749dc9043a0",
   "metadata": {},
   "source": [
    "### Git keeps track of ___BLANK___ in the files in our repository."
   ]
  },
  {
   "cell_type": "markdown",
   "id": "9493bfc6-a3e7-49ea-8674-222b9c25c80d",
   "metadata": {},
   "source": [
    "Git keeps track of the changes made in the files in our repository."
   ]
  },
  {
   "cell_type": "markdown",
   "id": "ae371ce7-13fe-4225-becd-8234e05a1cc6",
   "metadata": {},
   "source": [
    "### What is a **commit**?"
   ]
  },
  {
   "cell_type": "markdown",
   "id": "d2b6c10b-f328-4e51-bab5-11f2202b85e4",
   "metadata": {},
   "source": [
    "A commit is a tool we use to track the changes in our repository. By committing changes, we are noting down these changes."
   ]
  },
  {
   "cell_type": "markdown",
   "id": "c3331e82-a95e-4112-b4fd-83d020893832",
   "metadata": {},
   "source": [
    "### What is a **push**?"
   ]
  },
  {
   "cell_type": "markdown",
   "id": "93f61300-bcfc-4a6f-9b3a-f7c0af9dfdc8",
   "metadata": {},
   "source": [
    "A push means to transfer the changes in the files our repository to the main cloud or server."
   ]
  },
  {
   "cell_type": "markdown",
   "id": "3eacba22-8639-412c-b2b4-016a3dab41eb",
   "metadata": {},
   "source": [
    "### What is a pull?"
   ]
  },
  {
   "cell_type": "markdown",
   "id": "88b35b25-bd55-4f72-83b8-99970cff558f",
   "metadata": {},
   "source": [
    "A pull, conversely, is to transfer the changes from the sever to our local repository."
   ]
  },
  {
   "cell_type": "markdown",
   "id": "b27c8b91-6c86-4576-ad0f-5ad045b9105f",
   "metadata": {},
   "source": [
    "### What is the difference between **Github** and **GitHub Desktop**?"
   ]
  },
  {
   "cell_type": "markdown",
   "id": "f00c468f-7677-40d6-90fb-65f96d40133a",
   "metadata": {},
   "source": [
    "GitHub is the browser version while GitHub Desktop is installed onto a computer."
   ]
  },
  {
   "cell_type": "markdown",
   "id": "48abbd81-5695-4af4-9eeb-337f7aa0e5c4",
   "metadata": {},
   "source": [
    "## Exercise 3 (A Matter of Statistics) "
   ]
  },
  {
   "cell_type": "markdown",
   "id": "2dc36c43-e911-4581-8806-b88465920b9f",
   "metadata": {},
   "source": [
    "$$\n",
    "\\mu = \\dfrac{1}{n}\\sum\\limits_{i=1}^nx{\\scriptscriptstyle i}\n",
    "$$"
   ]
  },
  {
   "cell_type": "markdown",
   "id": "d6ab9113-f2d8-432d-bfcd-48e7c9ab121f",
   "metadata": {},
   "source": [
    "$$\n",
    "\\sigma = \\sqrt{\\dfrac{1}{n}\\sum\\limits_{i=1}^n(x{\\scriptscriptstyle i}-\\mu)^{2}}\n",
    "$$"
   ]
  },
  {
   "cell_type": "markdown",
   "id": "ca973199-7264-4167-a329-dba3e453dbf6",
   "metadata": {},
   "source": [
    "$$\n",
    "r = \\dfrac{\\sum\\limits_{i=1}^{n}(x{\\scriptscriptstyle i}-\\mu{\\scriptscriptstyle X})(y{\\scriptscriptstyle i}-\\mu{\\scriptscriptstyle Y})}{\\sqrt{\\sum\\limits_{i=1}^{n}(x{\\scriptscriptstyle i}-\\mu{\\scriptscriptstyle X})^{2}\\sum\\limits_{i=1}^{n}(y{\\scriptscriptstyle i}-\\mu{\\scriptscriptstyle Y})^{2}}}\n",
    "$$"
   ]
  },
  {
   "cell_type": "code",
   "execution_count": null,
   "id": "c83ee8bd-556d-4f75-a93f-c093009bf105",
   "metadata": {},
   "outputs": [],
   "source": []
  }
 ],
 "metadata": {
  "kernelspec": {
   "display_name": "Python 3 (ipykernel)",
   "language": "python",
   "name": "python3"
  },
  "language_info": {
   "codemirror_mode": {
    "name": "ipython",
    "version": 3
   },
   "file_extension": ".py",
   "mimetype": "text/x-python",
   "name": "python",
   "nbconvert_exporter": "python",
   "pygments_lexer": "ipython3",
   "version": "3.12.2"
  },
  "toc": {
   "base_numbering": 1,
   "nav_menu": {},
   "number_sections": true,
   "sideBar": true,
   "skip_h1_title": false,
   "title_cell": "Table of Contents",
   "title_sidebar": "Contents",
   "toc_cell": false,
   "toc_position": {},
   "toc_section_display": true,
   "toc_window_display": false
  },
  "vscode": {
   "interpreter": {
    "hash": "31f2aee4e71d21fbe5cf8b01ff0e069b9275f58929596ceb00d14d90e3e16cd6"
   }
  }
 },
 "nbformat": 4,
 "nbformat_minor": 5
}
