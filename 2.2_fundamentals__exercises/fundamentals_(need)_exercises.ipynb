{
 "cells": [
  {
   "attachments": {},
   "cell_type": "markdown",
   "id": "123456",
   "metadata": {},
   "source": [
    "<div style=\"text-align:left;font-size:2em\"><span style=\"font-weight:bolder;font-size:1.25em\">SP2273 | Learning Portfolio</span><br><br><span style=\"font-weight:bold;color:darkred\">Fundamentals (Need) Exercises</span></div>"
   ]
  },
  {
   "cell_type": "markdown",
   "id": "483452f2-ebf7-4049-8c0d-bc10b5df118d",
   "metadata": {},
   "source": [
    "## Exercise 1 (Total recall?) ☻"
   ]
  },
  {
   "cell_type": "code",
   "execution_count": 1,
   "id": "cd2f4ae2-80c8-4716-9f3f-ff90ba811484",
   "metadata": {},
   "outputs": [
    {
     "name": "stdout",
     "output_type": "stream",
     "text": [
      "Hello World!\n"
     ]
    }
   ],
   "source": [
    "print('Hello World!')"
   ]
  },
  {
   "cell_type": "code",
   "execution_count": 4,
   "id": "08dbdc36-99b8-4848-8345-a472d7fd4a34",
   "metadata": {},
   "outputs": [],
   "source": [
    "# hello \n",
    "# this is a comment"
   ]
  },
  {
   "cell_type": "code",
   "execution_count": 19,
   "id": "d7973558-88c0-485f-923c-f9571a417f87",
   "metadata": {},
   "outputs": [
    {
     "name": "stdout",
     "output_type": "stream",
     "text": [
      "Hello there batman!\n"
     ]
    }
   ],
   "source": [
    "name = 'Batman'\n",
    "name == 'Batman' # Checks if name is Batman \n",
    "name == 'Robin'\n",
    "\n",
    "if name == 'Batman':              # remember to add the colon\n",
    "    print('Hello there batman!')  # after if statements, you need an indentation (used to separate true or false blocks)\n",
    "else:\n",
    "    print('Who are you?')"
   ]
  },
  {
   "cell_type": "code",
   "execution_count": 20,
   "id": "245d33d2-da05-4c5a-86f0-29f6d7771385",
   "metadata": {},
   "outputs": [
    {
     "name": "stdout",
     "output_type": "stream",
     "text": [
      "166\n"
     ]
    }
   ],
   "source": [
    "student_height = 166\n",
    "print(student_height)"
   ]
  },
  {
   "cell_type": "code",
   "execution_count": 21,
   "id": "e186bd2c-3d27-4c9c-a727-496238b1deb4",
   "metadata": {},
   "outputs": [
    {
     "data": {
      "text/plain": [
       "49"
      ]
     },
     "execution_count": 21,
     "metadata": {},
     "output_type": "execute_result"
    }
   ],
   "source": [
    "(9-2)*7"
   ]
  },
  {
   "cell_type": "code",
   "execution_count": 31,
   "id": "1d9ac722-87e5-4218-9cae-b9021a0df573",
   "metadata": {},
   "outputs": [
    {
     "name": "stdout",
     "output_type": "stream",
     "text": [
      "[1, 2, 3, 4, 5]\n",
      "[[1, 'A'], [2, 'B'], [3, 'C'], [4, 'D']]\n"
     ]
    }
   ],
   "source": [
    "py_list = [1,2,3,4,5] # this list is still considered a variable \n",
    "py_list_2 = [\n",
    "                [1,'A'],\n",
    "                [2,'B'],\n",
    "                [3,'C'],\n",
    "                [4,'D']\n",
    "]\n",
    "\n",
    "print(py_list) \n",
    "print(py_list_2)"
   ]
  },
  {
   "cell_type": "code",
   "execution_count": 37,
   "id": "d57981c2-ca63-4741-9c7e-fa59e78b49f9",
   "metadata": {},
   "outputs": [
    {
     "name": "stdout",
     "output_type": "stream",
     "text": [
      "2 million\n"
     ]
    },
    {
     "data": {
      "text/plain": [
       "2.0"
      ]
     },
     "execution_count": 37,
     "metadata": {},
     "output_type": "execute_result"
    }
   ],
   "source": [
    "personal_info = {\n",
    "                    'Public name':'Batman',\n",
    "                    'Actual name':'Bruce Wayne',\n",
    "    'Income':'2 million'\n",
    "}\n",
    "\n",
    "print(personal_info['Income'])"
   ]
  },
  {
   "cell_type": "code",
   "execution_count": 35,
   "id": "96bbb81c-94ae-4430-99d1-fee6ea1326f5",
   "metadata": {},
   "outputs": [],
   "source": [
    "import math"
   ]
  },
  {
   "cell_type": "code",
   "execution_count": 36,
   "id": "6ddb79d1-8886-44a3-87e5-f49c988e286f",
   "metadata": {},
   "outputs": [
    {
     "data": {
      "text/plain": [
       "3.0"
      ]
     },
     "execution_count": 36,
     "metadata": {},
     "output_type": "execute_result"
    }
   ],
   "source": [
    "math.sqrt(9)"
   ]
  },
  {
   "cell_type": "code",
   "execution_count": 5,
   "id": "188b1b6e-49c6-41fd-94d1-71f03c021c02",
   "metadata": {},
   "outputs": [],
   "source": [
    "import numpy as np # numpy can handle a list of numbers"
   ]
  },
  {
   "cell_type": "code",
   "execution_count": 4,
   "id": "56e90927-ebcc-42cd-b74e-dd6c0d915aa3",
   "metadata": {},
   "outputs": [
    {
     "name": "stdout",
     "output_type": "stream",
     "text": [
      "2.0\n"
     ]
    }
   ],
   "source": [
    "print(np.sqrt(4))"
   ]
  },
  {
   "cell_type": "code",
   "execution_count": 8,
   "id": "e37b6587-422b-4f7a-a08b-e137adb32318",
   "metadata": {},
   "outputs": [
    {
     "name": "stdout",
     "output_type": "stream",
     "text": [
      "[2. 3. 4.]\n"
     ]
    },
    {
     "data": {
      "text/plain": [
       "array([6.        , 7.        , 2.82842712])"
      ]
     },
     "execution_count": 8,
     "metadata": {},
     "output_type": "execute_result"
    }
   ],
   "source": [
    "print(np.sqrt([4,9,16]))\n",
    "np.sqrt([36,49,8])"
   ]
  },
  {
   "cell_type": "code",
   "execution_count": 12,
   "id": "11b87548-cf1d-442e-aa08-ed0634c06d01",
   "metadata": {},
   "outputs": [
    {
     "data": {
      "text/plain": [
       "['My', 'name', 'is', 'Ning']"
      ]
     },
     "execution_count": 12,
     "metadata": {},
     "output_type": "execute_result"
    }
   ],
   "source": [
    "\"My name is Ning\".split() #the dot indicates ownership & what it can access depends on the context"
   ]
  },
  {
   "cell_type": "markdown",
   "id": "08e07790-07e7-42ba-a896-8d694314eceb",
   "metadata": {},
   "source": [
    "## Exercise 2 (Debug me) ☻"
   ]
  },
  {
   "cell_type": "code",
   "execution_count": 27,
   "id": "f6993fb0-23cb-42c9-a671-7397e806d05d",
   "metadata": {},
   "outputs": [
    {
     "name": "stdout",
     "output_type": "stream",
     "text": [
      "3 4 5.0\n"
     ]
    }
   ],
   "source": [
    "x, y = 3, 4\n",
    "\n",
    "z = np.sqrt(x**2 + y**2)\n",
    "\n",
    "print(x, y, z)"
   ]
  },
  {
   "cell_type": "markdown",
   "id": "335466ca-eccc-470e-aa75-cbcdbf00092f",
   "metadata": {},
   "source": [
    "## Exercise 3 (In your own words) ☻"
   ]
  },
  {
   "cell_type": "markdown",
   "id": "5a87eaf6-83be-4c15-8cf9-5c99f4dc1916",
   "metadata": {},
   "source": [
    "| #    |  Term   |    Description |\n",
    "| :--- | :--: | ---: |\n",
    "| 1   |  Functions  | We use this to execute a specific task   |\n",
    "| 2   |  Arguments  | Can be a string, a variable, integer or float   |\n",
    "| 3   |  Comments  | There is no code imbedded in a comment, it is for humans only   |\n",
    "| 4   |  Indentations | Use for true or false blocks, after 'if' statements |\n",
    "|  5  | Packages | To add more functions |\n",
    "| 6   | . | This is to create ownership |\n",
    "| 7   | : | To designate a block of code to something, placed after e.g. 'if' statements   |\n",
    "| 8   | [] | Used for lists of data |\n",
    "| 9   | [[],[]] | To create a 2D list |\n",
    "| 10  | {}   | To store data in a dictionary |"
   ]
  },
  {
   "cell_type": "markdown",
   "id": "965deafd-f90d-48d9-a73f-4bbe087df0f4",
   "metadata": {},
   "source": [
    "## Exercise 4 (More than one way to divide) ☻"
   ]
  },
  {
   "cell_type": "code",
   "execution_count": 28,
   "id": "d0620f31-34bb-4797-abd8-54617eb7cc9e",
   "metadata": {},
   "outputs": [
    {
     "data": {
      "text/plain": [
       "2.5"
      ]
     },
     "execution_count": 28,
     "metadata": {},
     "output_type": "execute_result"
    }
   ],
   "source": [
    "5/2           # divides to give a float"
   ]
  },
  {
   "cell_type": "code",
   "execution_count": 29,
   "id": "7c30a296-43fe-4060-b661-e804d4f465d4",
   "metadata": {},
   "outputs": [
    {
     "data": {
      "text/plain": [
       "2"
      ]
     },
     "execution_count": 29,
     "metadata": {},
     "output_type": "execute_result"
    }
   ],
   "source": [
    "5//2          # divides to give an integer rounded off "
   ]
  },
  {
   "cell_type": "code",
   "execution_count": 30,
   "id": "e33b1b41-0ab7-42c2-bfce-712b03282f88",
   "metadata": {},
   "outputs": [
    {
     "data": {
      "text/plain": [
       "1"
      ]
     },
     "execution_count": 30,
     "metadata": {},
     "output_type": "execute_result"
    }
   ],
   "source": [
    "5%2           # gives the remainder after dividing (only 4 can divide 2 to give a whole number, so 5-4 = 1 which is the remainder) "
   ]
  }
 ],
 "metadata": {
  "kernelspec": {
   "display_name": "Python 3 (ipykernel)",
   "language": "python",
   "name": "python3"
  },
  "language_info": {
   "codemirror_mode": {
    "name": "ipython",
    "version": 3
   },
   "file_extension": ".py",
   "mimetype": "text/x-python",
   "name": "python",
   "nbconvert_exporter": "python",
   "pygments_lexer": "ipython3",
   "version": "3.12.2"
  },
  "toc": {
   "base_numbering": 1,
   "nav_menu": {},
   "number_sections": true,
   "sideBar": true,
   "skip_h1_title": false,
   "title_cell": "Table of Contents",
   "title_sidebar": "Contents",
   "toc_cell": false,
   "toc_position": {},
   "toc_section_display": true,
   "toc_window_display": false
  },
  "vscode": {
   "interpreter": {
    "hash": "31f2aee4e71d21fbe5cf8b01ff0e069b9275f58929596ceb00d14d90e3e16cd6"
   }
  }
 },
 "nbformat": 4,
 "nbformat_minor": 5
}
