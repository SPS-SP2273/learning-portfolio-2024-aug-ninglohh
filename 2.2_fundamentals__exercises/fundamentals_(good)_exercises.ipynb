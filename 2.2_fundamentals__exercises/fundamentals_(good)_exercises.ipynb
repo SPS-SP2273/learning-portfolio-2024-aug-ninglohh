{
 "cells": [
  {
   "attachments": {},
   "cell_type": "markdown",
   "id": "123456",
   "metadata": {},
   "source": [
    "<div style=\"text-align:left;font-size:2em\"><span style=\"font-weight:bolder;font-size:1.25em\">SP2273 | Learning Portfolio</span><br><br><span style=\"font-weight:bold;color:darkred\">Fundamentals (Good) Exercises</span></div>"
   ]
  },
  {
   "cell_type": "markdown",
   "id": "6d48f7a8-2575-48c5-a41d-4a706a7fb6ef",
   "metadata": {},
   "source": [
    "## Exercise 1 (f-strings to the rescue) "
   ]
  },
  {
   "cell_type": "markdown",
   "id": "decdfcb2-639f-460c-8eef-c888aff07df6",
   "metadata": {},
   "source": [
    "### Example 1"
   ]
  },
  {
   "cell_type": "code",
   "execution_count": 1,
   "id": "d2c35bad-cab4-4508-8b1a-c38a01f0bfc3",
   "metadata": {},
   "outputs": [
    {
     "name": "stdin",
     "output_type": "stream",
     "text": [
      "Please provide me with a number? 26\n"
     ]
    },
    {
     "name": "stdout",
     "output_type": "stream",
     "text": [
      "You entered 26\n"
     ]
    }
   ],
   "source": [
    "user_input = input('Please provide me with a number?')\n",
    "print('You entered', user_input)"
   ]
  },
  {
   "cell_type": "markdown",
   "id": "e93576bd-71ab-4b1e-a7d6-2cd42e3fa730",
   "metadata": {},
   "source": [
    "### Task 1"
   ]
  },
  {
   "cell_type": "code",
   "execution_count": 109,
   "id": "eb2137ec-8029-4173-93c0-b0fd5fa71192",
   "metadata": {},
   "outputs": [
    {
     "name": "stdin",
     "output_type": "stream",
     "text": [
      "What is your name? ning\n"
     ]
    },
    {
     "name": "stdout",
     "output_type": "stream",
     "text": [
      "How you doin \u001b[1mNING\u001b[0m!\n"
     ]
    }
   ],
   "source": [
    "name = input('What is your name?')\n",
    "\n",
    "print('How you doin ' + f\"\\033[1m{name.upper()}\\033[0m\" +'!')"
   ]
  },
  {
   "cell_type": "markdown",
   "id": "6b4e62f1-5c2e-444b-8911-d1d391c73cfe",
   "metadata": {},
   "source": [
    "### Task 2"
   ]
  },
  {
   "cell_type": "code",
   "execution_count": 6,
   "id": "83e465f7-1844-4862-9433-155a2d464b7d",
   "metadata": {},
   "outputs": [
    {
     "name": "stdin",
     "output_type": "stream",
     "text": [
      "What is your name? ning\n",
      "How old are you? 18\n"
     ]
    },
    {
     "name": "stdout",
     "output_type": "stream",
     "text": [
      "My name is \u001b[1mNING\u001b[0m and I am \u001b[1m18\u001b[0m years old.\n"
     ]
    }
   ],
   "source": [
    "name = input('What is your name?')\n",
    "age = input('How old are you?')\n",
    "color = input('\n",
    "\n",
    "print(f'My name is \\033[1m{name.upper()}\\033[0m and I am \\033[1m{age}\\033[0m years old.')"
   ]
  },
  {
   "cell_type": "markdown",
   "id": "a9034d32-9382-4f7e-98df-0a8f24265d5c",
   "metadata": {},
   "source": [
    "### Task 3"
   ]
  },
  {
   "cell_type": "code",
   "execution_count": 55,
   "id": "c8fea574-02d5-4dd7-b6fb-e79ac573c4d3",
   "metadata": {},
   "outputs": [
    {
     "name": "stdout",
     "output_type": "stream",
     "text": [
      "The value of pi to 2 decimal places is: 3.14\n",
      "The value of pi to 3 decimal places is: 3.142\n",
      "The value of pi to 4 decimal places is: 3.1416\n"
     ]
    }
   ],
   "source": [
    "pi = 3.141592653589793\n",
    "\n",
    "print(f'The value of pi to 2 decimal places is: {pi:.2f}') # don't forget the dot\n",
    "print(f'The value of pi to 3 decimal places is: {pi:.3f}')\n",
    "print(f'The value of pi to 4 decimal places is: {pi:.4f}')"
   ]
  },
  {
   "cell_type": "markdown",
   "id": "bd03978e-b475-4074-8f0d-245876c63bde",
   "metadata": {},
   "source": [
    "### Task 4"
   ]
  },
  {
   "cell_type": "markdown",
   "id": "c5d8f8c1-c932-439d-a38d-94fc332b7dee",
   "metadata": {},
   "source": [
    "| Fruit | Price |\n",
    "| :---  | :--:  |\n",
    "| Apple | \\$0.99 |\n",
    "| Banana | \\$0.59 |\n",
    "| Orange | $1.29 |"
   ]
  },
  {
   "cell_type": "code",
   "execution_count": 75,
   "id": "56a2b562-56a7-4777-bc40-4b6c89afdfd4",
   "metadata": {},
   "outputs": [
    {
     "name": "stdout",
     "output_type": "stream",
     "text": [
      "Apple      $ 0.99\n",
      "Banana     $ 0.59\n",
      "Orange     $ 1.29\n",
      "********** $*****\n"
     ]
    }
   ],
   "source": [
    "fruit1 = 'Apple'\n",
    "priceA = float(0.99)\n",
    "\n",
    "fruit2 = 'Banana'\n",
    "priceB = float(0.59)\n",
    "\n",
    "fruit3 = 'Orange'\n",
    "priceO = float(1.29)\n",
    "\n",
    "print(f'{fruit1:<10} ${priceA:>5}\\n{fruit2:<10} ${priceB:>5}\\n{fruit3:<10} ${priceO:>5}\\n{\"********** $*****\"}')      "
   ]
  },
  {
   "cell_type": "code",
   "execution_count": 13,
   "id": "20f6c928-4787-4d09-8894-2cd5d5d457d7",
   "metadata": {},
   "outputs": [
    {
     "name": "stdout",
     "output_type": "stream",
     "text": [
      "Apple      $ 0.99\n",
      "Banana     $ 0.59\n",
      "Orange     $ 1.29\n",
      "********** $*****\n"
     ]
    }
   ],
   "source": [
    "fruit1 = 'Apple'\n",
    "priceA = 0.99 # They already are floats so you do not need to cast them as floats\n",
    "\n",
    "fruit2 = 'Banana'\n",
    "priceB = 0.59\n",
    "\n",
    "fruit3 = 'Orange'\n",
    "priceO = 1.29\n",
    "\n",
    "print(f'{fruit1:<10} ${priceA:>5}\\n{fruit2:<10} ${priceB:>5}\\n{fruit3:<10} ${priceO:>5}\\n{\"********** $*****\"}')      "
   ]
  },
  {
   "cell_type": "markdown",
   "id": "8d72dfdd-2be2-41c8-9901-1eb9990e1f16",
   "metadata": {},
   "source": [
    "## Exercise 2 (What is your grade?)"
   ]
  },
  {
   "cell_type": "markdown",
   "id": "cf776fbe-a0e9-4d48-994b-abc2c04d2511",
   "metadata": {},
   "source": [
    "| Grade| Score Range |    \n",
    "| :--- | :--: | \n",
    "| A   | 70-100   |   \n",
    "| B   | 50-69   |  \n",
    "| C   | 35-49   |   \n",
    "| Fail | 0-34 |\n"
   ]
  },
  {
   "cell_type": "code",
   "execution_count": 10,
   "id": "10351f2c-cf13-492e-92c4-3cc97fd8a082",
   "metadata": {},
   "outputs": [
    {
     "name": "stdin",
     "output_type": "stream",
     "text": [
      "Enter the student's score:  -888\n"
     ]
    },
    {
     "name": "stdout",
     "output_type": "stream",
     "text": [
      "You did not enter an integer score!\n"
     ]
    }
   ],
   "source": [
    "score = input('Enter the student\\'s score: ')\n",
    "\n",
    "if score.isnumeric():\n",
    "    score = int(score)\n",
    "    if 70 <= score <= 100:\n",
    "        print('The student\\'s letter grade is: A')\n",
    "\n",
    "    elif 50 <= score <= 69:\n",
    "        print('The student\\'s letter grade is: B')\n",
    "\n",
    "    elif 35 <= score <= 49:\n",
    "        print('The student\\'s letter grade is: C')\n",
    "\n",
    "    elif 0 <= score <= 34:\n",
    "        print('The student\\'s letter grade is: Fail')\n",
    "\n",
    "    else:\n",
    "        print('Please enter an integer score between 0 and 100!')\n",
    "\n",
    "else:\n",
    "    print('You did not enter an integer score!')"
   ]
  },
  {
   "cell_type": "code",
   "execution_count": 14,
   "id": "28faa852-f756-4e47-9f71-eb77769b0ad8",
   "metadata": {},
   "outputs": [
    {
     "name": "stdin",
     "output_type": "stream",
     "text": [
      "Enter the student's score:  -7\n"
     ]
    },
    {
     "name": "stdout",
     "output_type": "stream",
     "text": [
      "Please enter an integer score between 0 and 100!\n"
     ]
    }
   ],
   "source": [
    "score = input('Enter the student\\'s score: ')\n",
    "\n",
    "if score.isnumeric():\n",
    "    score = int(score)\n",
    "    if 70 <= score <= 100:\n",
    "        print('The student\\'s letter grade is: A')\n",
    "\n",
    "    elif 50 <= score <= 69:\n",
    "        print('The student\\'s letter grade is: B')\n",
    "\n",
    "    elif 35 <= score <= 49:\n",
    "        print('The student\\'s letter grade is: C')\n",
    "\n",
    "    elif 0 <= score <= 34:\n",
    "        print('The student\\'s letter grade is: Fail')\n",
    "\n",
    "    else:\n",
    "        print('Please enter an integer score between 0 and 100!')\n",
    "\n",
    "else:\n",
    "    print('Please enter an integer score between 0 and 100!')"
   ]
  },
  {
   "cell_type": "markdown",
   "id": "335e6343-6007-475b-af80-713a86c579b5",
   "metadata": {},
   "source": [
    "## Exercise 3 (Debugging Code)"
   ]
  },
  {
   "cell_type": "markdown",
   "id": "f7f46c19-ac65-49d7-8597-90eb835fd8a5",
   "metadata": {},
   "source": [
    "### Question (incorrect code)"
   ]
  },
  {
   "cell_type": "code",
   "execution_count": 83,
   "id": "ce92c3f7-1c22-41c6-8fad-6bb4890c632e",
   "metadata": {},
   "outputs": [
    {
     "name": "stdout",
     "output_type": "stream",
     "text": [
      "Invalid input\n",
      "1\n"
     ]
    }
   ],
   "source": [
    "def factorial(n):\n",
    "    if n > 0:\n",
    "        return \"Invalid input\"\n",
    "    elif n != 0:    # != means it is false if n = 0\n",
    "        return 1\n",
    "    else:\n",
    "        result = 1\n",
    "        for number in range(1, n+1):\n",
    "            result += number\n",
    "        return result\n",
    "\n",
    "\n",
    "print(factorial(5))   # Testing, expected output: 120\n",
    "print(factorial(-1))  # Testing, expected output: Invalid input"
   ]
  },
  {
   "cell_type": "markdown",
   "id": "2dabe8f1-b2f4-4b28-b578-4bfb660c7800",
   "metadata": {},
   "source": [
    "### Answer (corrected code)"
   ]
  },
  {
   "cell_type": "code",
   "execution_count": 91,
   "id": "3779f91e-7dcf-446e-a575-12948abecbd6",
   "metadata": {},
   "outputs": [
    {
     "name": "stdout",
     "output_type": "stream",
     "text": [
      "120\n",
      "Invalid input\n"
     ]
    }
   ],
   "source": [
    "def factorial(n):\n",
    "    \n",
    "    if n < 0:                     # since negative numbers have no defined factorial (change inequality sign)\n",
    "        return \"Invalid input\"\n",
    "    \n",
    "    elif n == 0:                  # to check if n = 0 (since 0! = 1) (change to ==)\n",
    "        return 1\n",
    "\n",
    "    \n",
    "    else:\n",
    "        result = 1\n",
    "        for number in range(1, n+1):\n",
    "            result *= number     # change to *= \n",
    "        \n",
    "        return result\n",
    "\n",
    "\n",
    "print(factorial(5))   # Testing, expected output: 120\n",
    "print(factorial(-1))  # Testing, expected output: Invalid input"
   ]
  }
 ],
 "metadata": {
  "kernelspec": {
   "display_name": "Python 3 (ipykernel)",
   "language": "python",
   "name": "python3"
  },
  "language_info": {
   "codemirror_mode": {
    "name": "ipython",
    "version": 3
   },
   "file_extension": ".py",
   "mimetype": "text/x-python",
   "name": "python",
   "nbconvert_exporter": "python",
   "pygments_lexer": "ipython3",
   "version": "3.12.2"
  },
  "toc": {
   "base_numbering": 1,
   "nav_menu": {},
   "number_sections": true,
   "sideBar": true,
   "skip_h1_title": false,
   "title_cell": "Table of Contents",
   "title_sidebar": "Contents",
   "toc_cell": false,
   "toc_position": {},
   "toc_section_display": true,
   "toc_window_display": false
  },
  "vscode": {
   "interpreter": {
    "hash": "31f2aee4e71d21fbe5cf8b01ff0e069b9275f58929596ceb00d14d90e3e16cd6"
   }
  }
 },
 "nbformat": 4,
 "nbformat_minor": 5
}
