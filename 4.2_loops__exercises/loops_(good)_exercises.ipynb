{
 "cells": [
  {
   "attachments": {},
   "cell_type": "markdown",
   "id": "123456",
   "metadata": {},
   "source": [
    "<div style=\"text-align:left;font-size:2em\"><span style=\"font-weight:bolder;font-size:1.25em\">SP2273 | Learning Portfolio</span><br><br><span style=\"font-weight:bold;color:darkred\">Loops (Good) Exercises</span></div>"
   ]
  },
  {
   "cell_type": "markdown",
   "id": "eb34f66f-5745-495c-85c6-de997360c98d",
   "metadata": {},
   "source": [
    "## Exercise 1 (Make me an odd list) "
   ]
  },
  {
   "cell_type": "code",
   "execution_count": 34,
   "id": "8846b3a1-0661-457e-87cb-7e5816cea79f",
   "metadata": {},
   "outputs": [
    {
     "name": "stdout",
     "output_type": "stream",
     "text": [
      "[1, 9, 25, 49, 81]\n"
     ]
    }
   ],
   "source": [
    "integers = []\n",
    "for i in range(1,10,2):\n",
    "    integers.append(i**2)\n",
    "print(integers)"
   ]
  },
  {
   "cell_type": "markdown",
   "id": "1fd1e3f8-f060-4ebd-ad0c-d100fd459727",
   "metadata": {},
   "source": [
    "## Exercise 2 (Make me another odd list)"
   ]
  },
  {
   "cell_type": "code",
   "execution_count": 37,
   "id": "8475779c-d963-4791-9f57-3d336891d04f",
   "metadata": {},
   "outputs": [
    {
     "data": {
      "text/plain": [
       "[1, 9, 25, 49, 81]"
      ]
     },
     "execution_count": 37,
     "metadata": {},
     "output_type": "execute_result"
    }
   ],
   "source": [
    "[number**2 for number in range(10) if number % 2 !=0]"
   ]
  },
  {
   "cell_type": "markdown",
   "id": "a7320103-63b8-4a94-bfe8-f8a501371848",
   "metadata": {},
   "source": [
    "## Exercise 3 (Time me!)"
   ]
  },
  {
   "cell_type": "code",
   "execution_count": 8,
   "id": "f7aa1a16-17a1-4c56-a253-a6a703a2970c",
   "metadata": {},
   "outputs": [
    {
     "name": "stdout",
     "output_type": "stream",
     "text": [
      "165 ns ± 0.446 ns per loop (mean ± std. dev. of 7 runs, 10,000,000 loops each)\n"
     ]
    }
   ],
   "source": [
    "%%timeit\n",
    "integers = []\n",
    "for i in range(1,10,2):\n",
    "    integers.append(i**2)\n"
   ]
  },
  {
   "cell_type": "code",
   "execution_count": 9,
   "id": "d8f80474-6cbd-467a-92cb-42ac140be139",
   "metadata": {},
   "outputs": [],
   "source": [
    "# A tip for timing your code with %%timeit is to not include any code that outputs something (such as print or later, GUI displays). \n",
    "# Printing can actually slow down your code and generate a lot of unwanted output. "
   ]
  },
  {
   "cell_type": "code",
   "execution_count": 2,
   "id": "7ff3a5b1-20ce-484d-9703-ee665a215e05",
   "metadata": {},
   "outputs": [
    {
     "name": "stdout",
     "output_type": "stream",
     "text": [
      "281 ns ± 2.89 ns per loop (mean ± std. dev. of 7 runs, 1,000,000 loops each)\n"
     ]
    }
   ],
   "source": [
    "%%timeit\n",
    "[number**2 for number in range(10) if number % 2 !=0]"
   ]
  },
  {
   "cell_type": "markdown",
   "id": "f5f7b955-68c7-4370-9a7d-dd98b907f2bc",
   "metadata": {},
   "source": [
    "The time taken for second code is shorter likely because the code contains less inputs."
   ]
  },
  {
   "cell_type": "markdown",
   "id": "6da2981e-e66a-4932-acd0-8f1869ea95b4",
   "metadata": {},
   "source": [
    "## Exercise 4 (A problem of decay)"
   ]
  },
  {
   "cell_type": "code",
   "execution_count": null,
   "id": "daa485b7-9755-4dcd-8da9-43f990d413b9",
   "metadata": {},
   "outputs": [],
   "source": [
    "The initial quantity of a sample of a radioactive substance is 100 units, and it decays by 5% each year. \n",
    "Use a while loop to determine how long the sample will take to reduce to half its original amount."
   ]
  },
  {
   "cell_type": "code",
   "execution_count": 72,
   "id": "a6202b14-8f68-41d8-a1f2-08780cb2c1ad",
   "metadata": {},
   "outputs": [
    {
     "name": "stdout",
     "output_type": "stream",
     "text": [
      "It will take 14 years for this to happen.\n"
     ]
    }
   ],
   "source": [
    "quantity=100\n",
    "years = 0\n",
    "while quantity > 0:\n",
    "    years += 1\n",
    "    quantity *= 0.95\n",
    "    if quantity <= 50: break\n",
    "print(f'It will take {years} years for this to happen.')"
   ]
  },
  {
   "cell_type": "markdown",
   "id": "71d337eb-67e8-41db-bb0c-06f03fd2efe3",
   "metadata": {},
   "source": [
    "#### Improved answer"
   ]
  },
  {
   "cell_type": "code",
   "execution_count": 10,
   "id": "9f16f8e8-0ead-4c54-877c-08cdb6dab040",
   "metadata": {},
   "outputs": [
    {
     "name": "stdout",
     "output_type": "stream",
     "text": [
      "It will take 14 years for this to happen.\n"
     ]
    }
   ],
   "source": [
    "quantity=100\n",
    "years = 0\n",
    "\n",
    "while quantity > 50:\n",
    "    years += 1\n",
    "    quantity *= 0.95\n",
    "  \n",
    "print(f'It will take {years} years for this to happen.')"
   ]
  },
  {
   "cell_type": "markdown",
   "id": "d2b57430-636e-4126-abb7-c64743391ff4",
   "metadata": {},
   "source": [
    "## Exercise 5 (Changes in CO)"
   ]
  },
  {
   "cell_type": "code",
   "execution_count": 113,
   "id": "b02daab9-f234-4c74-8e2a-ae6efabf43e6",
   "metadata": {},
   "outputs": [],
   "source": [
    "import numpy as np"
   ]
  },
  {
   "cell_type": "markdown",
   "id": "1fdd11db-11e1-43ef-ab52-2f9798211d7a",
   "metadata": {},
   "source": [
    "### Original answer"
   ]
  },
  {
   "cell_type": "code",
   "execution_count": 118,
   "id": "86fe8a20-83fb-4a52-83f6-63eae9c181d0",
   "metadata": {},
   "outputs": [
    {
     "name": "stdout",
     "output_type": "stream",
     "text": [
      "2016 3.410000000000025\n"
     ]
    }
   ],
   "source": [
    "co2_data = [\n",
    "    (2000, 369.55), (2001, 371.14), (2002, 373.28), \n",
    "    (2003, 375.80), (2004, 377.52), (2005, 379.80), \n",
    "    (2006, 381.90), (2007, 383.79), (2008, 385.60), \n",
    "    (2009, 387.43), (2010, 389.90), (2011, 391.65), \n",
    "    (2012, 393.85), (2013, 396.52), (2014, 398.65),\n",
    "    (2015, 400.83), (2016, 404.24), (2017, 406.55), \n",
    "    (2018, 408.52), (2019, 411.44), (2020, 414.24)\n",
    "]\n",
    "\n",
    "x = np.array(co2_data)\n",
    "\n",
    "years = x[:,0]  # splitting the array into years and concentration\n",
    "conc = x[:,1]\n",
    "\n",
    "for i in range(1,len(x)):  # index\n",
    "    diff = conc[i] - conc[i-1]\n",
    "    if diff < 3:\n",
    "        continue \n",
    "    print(int(years[i]), diff)"
   ]
  },
  {
   "cell_type": "markdown",
   "id": "aff67d88-f7e5-4bac-8fab-52e736e1a39e",
   "metadata": {},
   "source": [
    "### Corrected answer (not using Numpy)"
   ]
  },
  {
   "cell_type": "code",
   "execution_count": 16,
   "id": "c6a49b0f-06d7-4431-b44d-4adda9aeef0a",
   "metadata": {},
   "outputs": [
    {
     "name": "stdout",
     "output_type": "stream",
     "text": [
      "2016 3.410000000000025\n"
     ]
    }
   ],
   "source": [
    "co2_data = [\n",
    "    (2000, 369.55), (2001, 371.14), (2002, 373.28), \n",
    "    (2003, 375.80), (2004, 377.52), (2005, 379.80), \n",
    "    (2006, 381.90), (2007, 383.79), (2008, 385.60), \n",
    "    (2009, 387.43), (2010, 389.90), (2011, 391.65), \n",
    "    (2012, 393.85), (2013, 396.52), (2014, 398.65),\n",
    "    (2015, 400.83), (2016, 404.24), (2017, 406.55), \n",
    "    (2018, 408.52), (2019, 411.44), (2020, 414.24)\n",
    "]\n",
    "\n",
    "\n",
    "for i in range(len(co2_data)):  \n",
    "    diff = co2_data[i][1] - co2_data[i-1][1]\n",
    "    if diff < 3:\n",
    "        continue \n",
    "    print(int(co2_data[i][0]), diff)"
   ]
  },
  {
   "cell_type": "markdown",
   "id": "c487334d-c550-42d0-8e9c-f42f5d4f1df2",
   "metadata": {},
   "source": [
    "### Corrected answer (OPTIONAL, not using for loops)"
   ]
  },
  {
   "cell_type": "code",
   "execution_count": 79,
   "id": "02ec69c6-0d4e-4b0f-9cbe-cb12c07e4ee5",
   "metadata": {},
   "outputs": [
    {
     "name": "stdout",
     "output_type": "stream",
     "text": [
      "[[2016.      3.41]]\n"
     ]
    }
   ],
   "source": [
    "co2_data = [\n",
    "    (2000, 369.55), (2001, 371.14), (2002, 373.28), \n",
    "    (2003, 375.80), (2004, 377.52), (2005, 379.80), \n",
    "    (2006, 381.90), (2007, 383.79), (2008, 385.60), \n",
    "    (2009, 387.43), (2010, 389.90), (2011, 391.65), \n",
    "    (2012, 393.85), (2013, 396.52), (2014, 398.65),\n",
    "    (2015, 400.83), (2016, 404.24), (2017, 406.55), \n",
    "    (2018, 408.52), (2019, 411.44), (2020, 414.24)\n",
    "]\n",
    "\n",
    "x = np.array(co2_data)\n",
    "\n",
    "diff = x[1:,1] - x[:-1,1] \n",
    "\n",
    "mask = diff > 3\n",
    "\n",
    "outcome_year = x[1:,0][mask]\n",
    "outcome_diff = diff[mask] # Cannot index this since it is a 1D array\n",
    "\n",
    "print(np.column_stack((outcome_year,outcome_diff))) # Must add two sets of brackets for np.column_stack"
   ]
  }
 ],
 "metadata": {
  "kernelspec": {
   "display_name": "Python 3 (ipykernel)",
   "language": "python",
   "name": "python3"
  },
  "language_info": {
   "codemirror_mode": {
    "name": "ipython",
    "version": 3
   },
   "file_extension": ".py",
   "mimetype": "text/x-python",
   "name": "python",
   "nbconvert_exporter": "python",
   "pygments_lexer": "ipython3",
   "version": "3.12.2"
  },
  "toc": {
   "base_numbering": 1,
   "nav_menu": {},
   "number_sections": true,
   "sideBar": true,
   "skip_h1_title": false,
   "title_cell": "Table of Contents",
   "title_sidebar": "Contents",
   "toc_cell": false,
   "toc_position": {},
   "toc_section_display": true,
   "toc_window_display": false
  },
  "vscode": {
   "interpreter": {
    "hash": "31f2aee4e71d21fbe5cf8b01ff0e069b9275f58929596ceb00d14d90e3e16cd6"
   }
  }
 },
 "nbformat": 4,
 "nbformat_minor": 5
}
