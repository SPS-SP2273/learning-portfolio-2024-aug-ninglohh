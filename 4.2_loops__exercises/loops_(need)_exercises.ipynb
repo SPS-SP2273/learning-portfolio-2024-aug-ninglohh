{
 "cells": [
  {
   "attachments": {},
   "cell_type": "markdown",
   "id": "123456",
   "metadata": {},
   "source": [
    "<div style=\"text-align:left;font-size:2em\"><span style=\"font-weight:bolder;font-size:1.25em\">SP2273 | Learning Portfolio</span><br><br><span style=\"font-weight:bold;color:darkred\">Loops (Need) Exercises</span></div>"
   ]
  },
  {
   "cell_type": "code",
   "execution_count": 3,
   "id": "20f8b839-d5ff-4f6f-9105-c9d177f1344c",
   "metadata": {},
   "outputs": [],
   "source": [
    "import numpy as np"
   ]
  },
  {
   "cell_type": "markdown",
   "id": "f43c4ce8-5dc3-49ec-9c2b-131c4a866970",
   "metadata": {},
   "source": [
    "## Exercise 1 (Celsius to Fahrenheit)"
   ]
  },
  {
   "cell_type": "markdown",
   "id": "85db0334-98da-4992-a2c3-06aab5b7ed2a",
   "metadata": {},
   "source": [
    "#### Original answer"
   ]
  },
  {
   "cell_type": "code",
   "execution_count": 135,
   "id": "9b213acf-154d-4c8a-b205-5f07e564c047",
   "metadata": {},
   "outputs": [
    {
     "name": "stdout",
     "output_type": "stream",
     "text": [
      "0 32.0\n",
      "5 41.0\n",
      "10 50.0\n",
      "15 59.0\n",
      "20 68.0\n",
      "25 77.0\n",
      "30 86.0\n",
      "35 95.0\n",
      "40 104.0\n",
      "45 113.0\n",
      "50 122.0\n"
     ]
    }
   ],
   "source": [
    "temperatures_celsius = [\n",
    "    0, 5, 10, 15, 20, 25,\n",
    "    30, 35, 40, 45, 50 ]\n",
    "\n",
    "py_array = np.array(temperatures_celsius)\n",
    "\n",
    "for index, temperature_celsius in enumerate(temperatures_celsius):\n",
    "    print(temperature_celsius, ((py_array*(9/5)) + 32)[index])"
   ]
  },
  {
   "cell_type": "markdown",
   "id": "b92a8ee0-ed4d-4bba-859a-cc01df25f189",
   "metadata": {},
   "source": [
    "#### Corrected answer"
   ]
  },
  {
   "cell_type": "code",
   "execution_count": 12,
   "id": "0cc9e9ea-f7b6-474b-a58e-d7479f8dcd5f",
   "metadata": {},
   "outputs": [
    {
     "name": "stdout",
     "output_type": "stream",
     "text": [
      "0 32.0\n",
      "5 41.0\n",
      "10 50.0\n",
      "15 59.0\n",
      "20 68.0\n",
      "25 77.0\n",
      "30 86.0\n",
      "35 95.0\n",
      "40 104.0\n",
      "45 113.0\n",
      "50 122.0\n"
     ]
    }
   ],
   "source": [
    "temperatures_celsius = [\n",
    "    0, 5, 10, 15, 20, 25,\n",
    "    30, 35, 40, 45, 50 ]\n",
    "\n",
    "for index, temperature_celsius in enumerate(temperatures_celsius):\n",
    "    print(temperature_celsius, ((temperature_celsius*(9/5)) + 32))"
   ]
  },
  {
   "cell_type": "code",
   "execution_count": 15,
   "id": "6829c31d-a28d-4c10-b07d-67e6745d7506",
   "metadata": {},
   "outputs": [
    {
     "name": "stdout",
     "output_type": "stream",
     "text": [
      "[[  0.  32.]\n",
      " [  5.  41.]\n",
      " [ 10.  50.]\n",
      " [ 15.  59.]\n",
      " [ 20.  68.]\n",
      " [ 25.  77.]\n",
      " [ 30.  86.]\n",
      " [ 35.  95.]\n",
      " [ 40. 104.]\n",
      " [ 45. 113.]\n",
      " [ 50. 122.]]\n"
     ]
    }
   ],
   "source": [
    "temperatures_celsius = [\n",
    "    0, 5, 10, 15, 20, 25,\n",
    "    30, 35, 40, 45, 50 ]\n",
    "\n",
    "celsius_array = np.array(temperatures_celsius)\n",
    "fahrenheit_array = celsius_array*(9/5) + 32\n",
    "\n",
    "print(np.column_stack((celsius_array, fahrenheit_array))) # Using np without using a for loop"
   ]
  },
  {
   "cell_type": "markdown",
   "id": "6dc992de-558f-484e-920a-65e7b6d281fe",
   "metadata": {},
   "source": [
    "## Exercise 2 (Multiplication table)"
   ]
  },
  {
   "cell_type": "markdown",
   "id": "29803ba6-c0c6-41f9-9a29-dbe8820d3fea",
   "metadata": {},
   "source": [
    "### Example"
   ]
  },
  {
   "cell_type": "code",
   "execution_count": 152,
   "id": "8679ca49-5f58-4f21-8f52-445ac033ef59",
   "metadata": {},
   "outputs": [
    {
     "name": "stdout",
     "output_type": "stream",
     "text": [
      "A1\tA2\tA3\t\n",
      "\n",
      "B1\tB2\tB3\t\n",
      "\n",
      "C1\tC2\tC3\t\n",
      "\n"
     ]
    }
   ],
   "source": [
    "for letter in ['A', 'B', 'C']:\n",
    "    for number in [1, 2, 3]:\n",
    "        print(f'{letter}{number}', end='\\t') # t means tab, so the variables are separated with a tab\n",
    "    print('\\n')"
   ]
  },
  {
   "cell_type": "markdown",
   "id": "55ccbef4-860a-4963-b422-54010459ba21",
   "metadata": {},
   "source": [
    "### Task"
   ]
  },
  {
   "cell_type": "code",
   "execution_count": 192,
   "id": "3e8b5888-161b-43f7-a92d-14321ffc2a70",
   "metadata": {},
   "outputs": [
    {
     "name": "stdout",
     "output_type": "stream",
     "text": [
      "1 : 1\t2\t3\t4\t5\t\n",
      "2 : 2\t4\t6\t8\t10\t\n",
      "3 : 3\t6\t9\t12\t15\t\n",
      "4 : 4\t8\t12\t16\t20\t\n",
      "5 : 5\t10\t15\t20\t25\t\n"
     ]
    }
   ],
   "source": [
    "for number in range(1,5+1):\n",
    "    print(f'{number} :', end=' ')  # the end=' ' is to prevent the print function from adding a new line by default\n",
    "    for multiply in range(1,6):\n",
    "        print(f\"{number*multiply}\", end='\\t')\n",
    "    print()"
   ]
  },
  {
   "cell_type": "markdown",
   "id": "5aabe558-20ea-45ee-bae0-2373cb83a107",
   "metadata": {},
   "source": [
    "## Exercise 3 (Simulating a Coin Flip Experiment)  "
   ]
  },
  {
   "cell_type": "markdown",
   "id": "66e3d003-c8e7-4219-b62d-fd77c028132f",
   "metadata": {},
   "source": [
    "### Example"
   ]
  },
  {
   "cell_type": "code",
   "execution_count": 59,
   "id": "91c5958f-3319-40ef-81c7-f12438b3fc8a",
   "metadata": {},
   "outputs": [
    {
     "data": {
      "text/plain": [
       "array([0.50229712, 0.52336753, 0.94096852, 0.80545604, 0.49271599,\n",
       "       0.52339188, 0.04281728, 0.71194318, 0.17203024, 0.23810781])"
      ]
     },
     "execution_count": 59,
     "metadata": {},
     "output_type": "execute_result"
    }
   ],
   "source": [
    "np.random.rand(10)"
   ]
  },
  {
   "cell_type": "markdown",
   "id": "36c1a74b-b50e-4f62-b20e-7a764196b460",
   "metadata": {},
   "source": [
    "### Task"
   ]
  },
  {
   "cell_type": "markdown",
   "id": "92fe59bd-4cb4-466b-8586-4310affd91ad",
   "metadata": {},
   "source": [
    "#### Original answer"
   ]
  },
  {
   "cell_type": "code",
   "execution_count": 7,
   "id": "d649c356-8c96-49c8-8451-00d9aca18068",
   "metadata": {},
   "outputs": [
    {
     "name": "stdout",
     "output_type": "stream",
     "text": [
      "Experiment  1: No. of Heads = 6\n",
      "Experiment  2: No. of Heads = 5\n",
      "Experiment  3: No. of Heads = 5\n",
      "Experiment  4: No. of Heads = 2\n",
      "Experiment  5: No. of Heads = 4\n",
      "Experiment  6: No. of Heads = 7\n",
      "Experiment  7: No. of Heads = 5\n",
      "Experiment  8: No. of Heads = 5\n",
      "Experiment  9: No. of Heads = 4\n",
      "Experiment  10: No. of Heads = 4\n"
     ]
    }
   ],
   "source": [
    "outcomes = [] # make an empty list\n",
    "\n",
    "for _ in range(1,11): # loop so that experiment runs 10 times\n",
    "    experiments = np.random.rand(10) # in each experiment, the coin is flipped 10 times\n",
    "    heads = np.sum(np.random.rand(10) > 0.5)\n",
    "    outcomes.append(heads)\n",
    "\n",
    "for i, heads in enumerate(outcomes,1): # use enumerate to index the outcomes list\n",
    "    print(f'Experiment  {i}: No. of Heads = {heads}')"
   ]
  },
  {
   "cell_type": "markdown",
   "id": "c26372b5-74ed-4e07-b027-d3559adea3d0",
   "metadata": {},
   "source": [
    "#### Corrected answer"
   ]
  },
  {
   "cell_type": "code",
   "execution_count": 12,
   "id": "4ea3b640-3d2a-454a-9310-bfdc678b1947",
   "metadata": {},
   "outputs": [
    {
     "name": "stdout",
     "output_type": "stream",
     "text": [
      "Experiment  1: No. of Heads = 7\n",
      "Experiment  2: No. of Heads = 5\n",
      "Experiment  3: No. of Heads = 2\n",
      "Experiment  4: No. of Heads = 7\n",
      "Experiment  5: No. of Heads = 4\n",
      "Experiment  6: No. of Heads = 7\n",
      "Experiment  7: No. of Heads = 3\n",
      "Experiment  8: No. of Heads = 4\n",
      "Experiment  9: No. of Heads = 4\n",
      "Experiment  10: No. of Heads = 9\n"
     ]
    }
   ],
   "source": [
    "outcomes = [] # make an empty list\n",
    "\n",
    "for _ in range(1,10+1): # loop so that experiment runs 10 times\n",
    "    experiments = np.random.rand(10) # in each experiment, the coin is flipped 10 times\n",
    "    heads = np.sum(experiments > 0.5) # use experiments variable so the results are from the experiments above\n",
    "    outcomes.append(heads)\n",
    "\n",
    "for i, heads in enumerate(outcomes,1): # use enumerate to index the outcomes list\n",
    "    print(f'Experiment  {i}: No. of Heads = {heads}')"
   ]
  },
  {
   "cell_type": "code",
   "execution_count": null,
   "id": "009c5706-6910-4af1-a550-84c2fccfdbb7",
   "metadata": {},
   "outputs": [],
   "source": []
  }
 ],
 "metadata": {
  "kernelspec": {
   "display_name": "Python 3 (ipykernel)",
   "language": "python",
   "name": "python3"
  },
  "language_info": {
   "codemirror_mode": {
    "name": "ipython",
    "version": 3
   },
   "file_extension": ".py",
   "mimetype": "text/x-python",
   "name": "python",
   "nbconvert_exporter": "python",
   "pygments_lexer": "ipython3",
   "version": "3.12.2"
  },
  "toc": {
   "base_numbering": 1,
   "nav_menu": {},
   "number_sections": true,
   "sideBar": true,
   "skip_h1_title": false,
   "title_cell": "Table of Contents",
   "title_sidebar": "Contents",
   "toc_cell": false,
   "toc_position": {},
   "toc_section_display": true,
   "toc_window_display": false
  },
  "vscode": {
   "interpreter": {
    "hash": "31f2aee4e71d21fbe5cf8b01ff0e069b9275f58929596ceb00d14d90e3e16cd6"
   }
  }
 },
 "nbformat": 4,
 "nbformat_minor": 5
}
